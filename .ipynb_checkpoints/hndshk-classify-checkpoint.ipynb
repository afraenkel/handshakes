{
 "cells": [
  {
   "cell_type": "code",
   "execution_count": 1,
   "metadata": {
    "collapsed": false
   },
   "outputs": [],
   "source": [
    "% matplotlib inline\n",
    "import pandas as pd\n",
    "import matplotlib.pyplot as plt\n",
    "import numpy as np\n",
    "import mpl_toolkits.mplot3d as mp3d\n",
    "import math\n",
    "import os\n",
    "from io import BytesIO\n",
    "from sklearn import svm\n",
    "\n",
    "from scipy.integrate import simps\n"
   ]
  },
  {
   "cell_type": "code",
   "execution_count": 2,
   "metadata": {
    "collapsed": false
   },
   "outputs": [],
   "source": [
    "def thresh_sample(v):\n",
    "    m,s = v.mean(),v.std().apply(lambda x:.23*math.sqrt(x))\n",
    "    tm,tM = m-s,m+s\n",
    "    trunc_m = v[ v.apply(lambda x: x>tM,axis=1).sum(axis=1)!= 0]\n",
    "    trunc_M = v[ v.apply(lambda x: x<tm,axis=1).sum(axis=1)!= 0]\n",
    "    m_ind = min(trunc_m.index[0],trunc_M.index[0])\n",
    "    M_ind = max(trunc_m.index[-1],trunc_M.index[-1])\n",
    "    return v.ix[m_ind:M_ind,:]\n",
    "\n",
    "  \n",
    "def normalize(v):\n",
    "    def toax(a):\n",
    "        xd = a.index\n",
    "        xd = xd/float(xd[-1])*100\n",
    "        return np.interp(range(100),xd,a)\n",
    "    df = pd.DataFrame([ toax(v[a]) for a in v.columns ] ).T\n",
    "    df.columns = ['x','y','z']\n",
    "    return df\n"
   ]
  },
  {
   "cell_type": "code",
   "execution_count": 3,
   "metadata": {
    "collapsed": false
   },
   "outputs": [],
   "source": [
    "filelist = [ x for x in os.listdir('./') if '.txt' in x ]"
   ]
  },
  {
   "cell_type": "code",
   "execution_count": 4,
   "metadata": {
    "collapsed": true
   },
   "outputs": [],
   "source": [
    "D = dict()\n",
    "l_d = len(D)\n",
    "for f in filelist:\n",
    "    with open(f) as fh:\n",
    "        s = ''.join([ x for x in fh if (x[0]!='#' and x[0]!='\\n')])\n",
    "        D[f] = pd.read_csv(BytesIO(s),sep=' ',names=['x','y','z','v'],usecols=['x','y','z'])\n",
    "        D[f] = thresh_sample(D[f]).reset_index(drop=True)\n",
    "        D[f] = normalize(D[f])\n",
    "        "
   ]
  },
  {
   "cell_type": "code",
   "execution_count": 8,
   "metadata": {
    "collapsed": false
   },
   "outputs": [],
   "source": [
    "DFT = dict()\n",
    "for k,v in D.items():\n",
    "    DFT[k] = v.apply(np.fft.fft,axis=0).applymap(np.absolute)\n",
    "  "
   ]
  },
  {
   "cell_type": "code",
   "execution_count": null,
   "metadata": {
    "collapsed": false,
    "scrolled": false
   },
   "outputs": [],
   "source": [
    "aucdict = dict()\n",
    "for i1,(k1,v1) in enumerate(sorted(DFT.items())):\n",
    "    for i2,(k2,v2) in enumerate(sorted(DFT.items())):\n",
    "        if i2 <= i1:\n",
    "            aucdict[(k1,k2)] = (v1*v2).applymap(np.absolute).apply(lambda x:simps(x,dx=100),axis=0).sum()\n",
    "            \n",
    "M = max( aucdict.values())\n",
    "for w in sorted(aucdict, key=aucdict.get, reverse=True):\n",
    "    #print w, aucdict[w]/M"
   ]
  },
  {
   "cell_type": "code",
   "execution_count": 127,
   "metadata": {
    "collapsed": false
   },
   "outputs": [],
   "source": [
    "training = [ x for x in filelist if '2' not in x ] \n",
    "testing = [ x for x in filelist if '2' in x ] "
   ]
  },
  {
   "cell_type": "code",
   "execution_count": 128,
   "metadata": {
    "collapsed": false
   },
   "outputs": [],
   "source": [
    "trainingData = list()\n",
    "for x in training:\n",
    "    v = list()\n",
    "    for y in D[x].columns:\n",
    "        v = v + list(D[x][y])\n",
    "    trainingData.append(v)\n",
    "\n",
    "testingData = list()\n",
    "for x in testing:\n",
    "    v = list()\n",
    "    for y in D[x].columns:\n",
    "        v = v + list(D[x][y])\n",
    "    testingData.append(v)"
   ]
  },
  {
   "cell_type": "code",
   "execution_count": 147,
   "metadata": {
    "collapsed": true
   },
   "outputs": [],
   "source": [
    "def tg(k):\n",
    "    if 'fistbump' in k:\n",
    "        return 1\n",
    "    else:\n",
    "        return 0"
   ]
  },
  {
   "cell_type": "code",
   "execution_count": 148,
   "metadata": {
    "collapsed": false
   },
   "outputs": [],
   "source": [
    "trainingTags = [ tg(k) for k in training ]"
   ]
  },
  {
   "cell_type": "code",
   "execution_count": 149,
   "metadata": {
    "collapsed": false
   },
   "outputs": [],
   "source": [
    "clf = svm.LinearSVC()"
   ]
  },
  {
   "cell_type": "code",
   "execution_count": 150,
   "metadata": {
    "collapsed": false
   },
   "outputs": [
    {
     "data": {
      "text/plain": [
       "LinearSVC(C=1.0, class_weight=None, dual=True, fit_intercept=True,\n",
       "     intercept_scaling=1, loss='l2', multi_class='ovr', penalty='l2',\n",
       "     random_state=None, tol=0.0001, verbose=0)"
      ]
     },
     "execution_count": 150,
     "metadata": {},
     "output_type": "execute_result"
    }
   ],
   "source": [
    "clf.fit(trainingData,trainingTags)"
   ]
  },
  {
   "cell_type": "code",
   "execution_count": 151,
   "metadata": {
    "collapsed": false
   },
   "outputs": [
    {
     "data": {
      "text/plain": [
       "array([0, 0, 0, 0])"
      ]
     },
     "execution_count": 151,
     "metadata": {},
     "output_type": "execute_result"
    }
   ],
   "source": [
    "clf.predict(testingData)"
   ]
  },
  {
   "cell_type": "code",
   "execution_count": 152,
   "metadata": {
    "collapsed": false,
    "scrolled": false
   },
   "outputs": [
    {
     "data": {
      "text/plain": [
       "['fistbump__2.txt', 'handshake__2.txt', 'hifive__2.txt', 'slap__2.txt']"
      ]
     },
     "execution_count": 152,
     "metadata": {},
     "output_type": "execute_result"
    }
   ],
   "source": [
    "testing"
   ]
  },
  {
   "cell_type": "code",
   "execution_count": null,
   "metadata": {
    "collapsed": false
   },
   "outputs": [],
   "source": []
  },
  {
   "cell_type": "code",
   "execution_count": null,
   "metadata": {
    "collapsed": false,
    "scrolled": false
   },
   "outputs": [],
   "source": []
  },
  {
   "cell_type": "code",
   "execution_count": null,
   "metadata": {
    "collapsed": false,
    "scrolled": false
   },
   "outputs": [],
   "source": []
  },
  {
   "cell_type": "code",
   "execution_count": 314,
   "metadata": {
    "collapsed": false
   },
   "outputs": [],
   "source": []
  },
  {
   "cell_type": "code",
   "execution_count": null,
   "metadata": {
    "collapsed": false
   },
   "outputs": [],
   "source": []
  },
  {
   "cell_type": "code",
   "execution_count": null,
   "metadata": {
    "collapsed": true
   },
   "outputs": [],
   "source": []
  }
 ],
 "metadata": {
  "kernelspec": {
   "display_name": "Python 2",
   "language": "python",
   "name": "python2"
  },
  "language_info": {
   "codemirror_mode": {
    "name": "ipython",
    "version": 2
   },
   "file_extension": ".py",
   "mimetype": "text/x-python",
   "name": "python",
   "nbconvert_exporter": "python",
   "pygments_lexer": "ipython2",
   "version": "2.7.9"
  }
 },
 "nbformat": 4,
 "nbformat_minor": 0
}
