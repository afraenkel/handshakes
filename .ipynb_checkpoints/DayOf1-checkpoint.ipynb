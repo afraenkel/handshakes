{
 "cells": [
  {
   "cell_type": "code",
   "execution_count": 24,
   "metadata": {
    "collapsed": false
   },
   "outputs": [],
   "source": [
    "% matplotlib inline\n",
    "import pandas as pd\n",
    "import matplotlib.pyplot as plt\n",
    "import numpy as np\n",
    "import mpl_toolkits.mplot3d as mp3d\n",
    "import math\n",
    "import os\n",
    "from io import BytesIO\n",
    "from scipy.integrate import simps"
   ]
  },
  {
   "cell_type": "code",
   "execution_count": 25,
   "metadata": {
    "collapsed": false
   },
   "outputs": [],
   "source": [
    "def thresh_sample(v):\n",
    "    m,s = v.mean(),v.std().apply(lambda x:.23*math.sqrt(x))\n",
    "    tm,tM = m-s,m+s\n",
    "    trunc_m = v[ v.apply(lambda x: x>tM,axis=1).sum(axis=1)!= 0]\n",
    "    trunc_M = v[ v.apply(lambda x: x<tm,axis=1).sum(axis=1)!= 0]\n",
    "    m_ind = min(trunc_m.index[0],trunc_M.index[0])\n",
    "    M_ind = max(trunc_m.index[-1],trunc_M.index[-1])\n",
    "    return v.ix[m_ind:M_ind,:]\n",
    "\n",
    "  \n",
    "def normalize(v):\n",
    "    def toax(a):\n",
    "        xd = a.index\n",
    "        xd = xd/float(xd[-1])*100\n",
    "        return np.interp(range(100),xd,a)\n",
    "    df = pd.DataFrame([ toax(v[a]) for a in v.columns ] ).T\n",
    "    df.columns = ['x','y','z']\n",
    "    return df\n",
    "\n",
    "def convolve(s1,s2):\n",
    "    df = pd.DataFrame()\n",
    "    for x in s1.columns:\n",
    "        df[x] = np.fft.ifft(np.fft.fft(s1[x])*np.fft.fft(s2[x])).real\n",
    "    return df\n",
    "\n",
    " "
   ]
  },
  {
   "cell_type": "code",
   "execution_count": 26,
   "metadata": {
    "collapsed": false
   },
   "outputs": [],
   "source": [
    "filelist = [ x for x in os.listdir('./') if '.txt' in x ]"
   ]
  },
  {
   "cell_type": "code",
   "execution_count": 27,
   "metadata": {
    "collapsed": true
   },
   "outputs": [],
   "source": [
    "# preprocessed signal\n",
    "\n",
    "D = dict()\n",
    "l_d = len(D)\n",
    "for f in filelist:\n",
    "    with open(f) as fh:\n",
    "        s = ''.join([ x for x in fh if (x[0]!='#' and x[0]!='\\n')])\n",
    "        D[f] = pd.read_csv(BytesIO(s),sep=' ',names=['x','y','z','v'],usecols=['x','y','z'])\n",
    "        D[f] = thresh_sample(D[f]).reset_index(drop=True)\n",
    "        D[f] = normalize(D[f])\n"
   ]
  },
  {
   "cell_type": "code",
   "execution_count": 28,
   "metadata": {
    "collapsed": false
   },
   "outputs": [],
   "source": [
    "# convolution of pairs\n",
    "\n",
    "convDict=dict()\n",
    "for i1,(k1,v1) in enumerate(sorted(D.items())):\n",
    "    for i2,(k2,v2) in enumerate(sorted(D.items())):\n",
    "        if i2 <= i1:\n",
    "            convDict[(k1,k2)] = convolve(v1,v2)"
   ]
  },
  {
   "cell_type": "code",
   "execution_count": 29,
   "metadata": {
    "collapsed": true
   },
   "outputs": [],
   "source": [
    "# a gesture paired with itself\n",
    "diagKeys = [ k for k in convDict.keys() if k[0]==k[1] ]\n",
    "# gesture-types\n",
    "handshake = [ k for k in convDict.keys() if 'handshake' in k[0] and 'handshake' in k[1] ]\n",
    "hifive = [ k for k in convDict.keys() if 'hifive' in k[0] and 'hifive' in k[1] ]\n",
    "slap = [ k for k in convDict.keys() if 'slap' in k[0] and 'slap' in k[1] ]\n",
    "fistbump = [ k for k in convDict.keys() if 'fistbump' in k[0] and 'fistbump' in k[1] ]\n",
    "# all matching gesture types\n",
    "matches = handshake + hifive + slap + fistbump\n",
    "# non matching gesture types\n",
    "nonmatch = set(convDict.keys()).difference(set(matches))"
   ]
  },
  {
   "cell_type": "code",
   "execution_count": 30,
   "metadata": {
    "collapsed": false
   },
   "outputs": [
    {
     "name": "stdout",
     "output_type": "stream",
     "text": [
      "210 20 15 15 15 15 60 150\n"
     ]
    }
   ],
   "source": [
    "for l in [convDict.keys(),diagKeys,handshake,hifive,slap,fistbump,matches,nonmatch]:\n",
    "    print len(l),"
   ]
  },
  {
   "cell_type": "code",
   "execution_count": 31,
   "metadata": {
    "collapsed": false,
    "scrolled": false
   },
   "outputs": [],
   "source": [
    "#fig,axes = plt.subplots(nrows=70,ncols=3,figsize=(20,200))\n",
    "#for i,(k,v) in enumerate(convDict.items()):\n",
    "#    v.plot(ax=axes[i/3,i%3],title=k)"
   ]
  },
  {
   "cell_type": "code",
   "execution_count": 38,
   "metadata": {
    "collapsed": false
   },
   "outputs": [
    {
     "name": "stdout",
     "output_type": "stream",
     "text": [
      "('handshake__3.txt', 'handshake__1.txt')\n",
      "x    62\n",
      "y    80\n",
      "z    85\n"
     ]
    },
    {
     "data": {
      "text/plain": [
       "<matplotlib.axes._subplots.AxesSubplot at 0x109c8ef90>"
      ]
     },
     "execution_count": 38,
     "metadata": {},
     "output_type": "execute_result"
    },
    {
     "data": {
      "image/png": "[encoded data removed]",
      "text/plain": [
       "<matplotlib.figure.Figure at 0x109c91d90>"
      ]
     },
     "metadata": {},
     "output_type": "display_data"
    }
   ],
   "source": [
    "#k=convDict.keys()[10]\n",
    "k = list(matches)[4]\n",
    "df = convDict[ k ]\n",
    "print k\n",
    "print df.idxmax().to_string()\n",
    "if (df.max()>6000).any():\n",
    "    print df.max().to_string()\n",
    "df.plot(title=k)"
   ]
  },
  {
   "cell_type": "code",
   "execution_count": 40,
   "metadata": {
    "collapsed": false
   },
   "outputs": [
    {
     "data": {
      "text/plain": [
       "[<matplotlib.lines.Line2D at 0x109f6fd90>]"
      ]
     },
     "execution_count": 40,
     "metadata": {},
     "output_type": "execute_result"
    },
    {
     "data": {
      "image/png": "[encoded data removed]",
      "text/plain": [
       "<matplotlib.figure.Figure at 0x109a91a90>"
      ]
     },
     "metadata": {},
     "output_type": "display_data"
    }
   ],
   "source": [
    "plt.plot(sorted([ convDict[k].max().max() for k in diagKeys]))"
   ]
  },
  {
   "cell_type": "code",
   "execution_count": null,
   "metadata": {
    "collapsed": false,
    "scrolled": false
   },
   "outputs": [],
   "source": []
  },
  {
   "cell_type": "code",
   "execution_count": null,
   "metadata": {
    "collapsed": true
   },
   "outputs": [],
   "source": []
  },
  {
   "cell_type": "code",
   "execution_count": null,
   "metadata": {
    "collapsed": true
   },
   "outputs": [],
   "source": []
  },
  {
   "cell_type": "code",
   "execution_count": null,
   "metadata": {
    "collapsed": false,
    "scrolled": false
   },
   "outputs": [],
   "source": []
  },
  {
   "cell_type": "code",
   "execution_count": null,
   "metadata": {
    "collapsed": false
   },
   "outputs": [],
   "source": []
  },
  {
   "cell_type": "code",
   "execution_count": null,
   "metadata": {
    "collapsed": false
   },
   "outputs": [],
   "source": []
  },
  {
   "cell_type": "code",
   "execution_count": null,
   "metadata": {
    "collapsed": false
   },
   "outputs": [],
   "source": []
  },
  {
   "cell_type": "code",
   "execution_count": null,
   "metadata": {
    "collapsed": false
   },
   "outputs": [],
   "source": []
  },
  {
   "cell_type": "code",
   "execution_count": null,
   "metadata": {
    "collapsed": true
   },
   "outputs": [],
   "source": []
  },
  {
   "cell_type": "code",
   "execution_count": null,
   "metadata": {
    "collapsed": false
   },
   "outputs": [],
   "source": []
  },
  {
   "cell_type": "code",
   "execution_count": null,
   "metadata": {
    "collapsed": false,
    "scrolled": false
   },
   "outputs": [],
   "source": []
  },
  {
   "cell_type": "code",
   "execution_count": null,
   "metadata": {
    "collapsed": false
   },
   "outputs": [],
   "source": []
  },
  {
   "cell_type": "code",
   "execution_count": null,
   "metadata": {
    "collapsed": false,
    "scrolled": false
   },
   "outputs": [],
   "source": []
  },
  {
   "cell_type": "code",
   "execution_count": null,
   "metadata": {
    "collapsed": false,
    "scrolled": false
   },
   "outputs": [],
   "source": []
  },
  {
   "cell_type": "code",
   "execution_count": null,
   "metadata": {
    "collapsed": false,
    "scrolled": false
   },
   "outputs": [],
   "source": []
  },
  {
   "cell_type": "code",
   "execution_count": null,
   "metadata": {
    "collapsed": false
   },
   "outputs": [],
   "source": []
  },
  {
   "cell_type": "code",
   "execution_count": null,
   "metadata": {
    "collapsed": true
   },
   "outputs": [],
   "source": []
  }
 ],
 "metadata": {
  "kernelspec": {
   "display_name": "Python 2",
   "language": "python",
   "name": "python2"
  },
  "language_info": {
   "codemirror_mode": {
    "name": "ipython",
    "version": 2
   },
   "file_extension": ".py",
   "mimetype": "text/x-python",
   "name": "python",
   "nbconvert_exporter": "python",
   "pygments_lexer": "ipython2",
   "version": "2.7.9"
  }
 },
 "nbformat": 4,
 "nbformat_minor": 0
}
