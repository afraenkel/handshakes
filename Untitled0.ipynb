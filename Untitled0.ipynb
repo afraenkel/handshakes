{
 "metadata": {
  "name": "",
  "signature": "sha256:3780ce44000f08d79857cc89c670215487dde08df7e57e4f32d5b1d8b474abc7"
 },
 "nbformat": 3,
 "nbformat_minor": 0,
 "worksheets": [
  {
   "cells": [
    {
     "cell_type": "code",
     "collapsed": false,
     "input": [
      "% matplotlib inline\n",
      "import pandas as pd\n",
      "import matplotlib.pyplot as plt\n",
      "import numpy as np\n",
      "import mpl_toolkits.mplot3d as mp3d\n",
      "import os\n",
      "from io import BytesIO\n",
      "filelist = [ x for x in os.listdir('./') if '.txt' in x ]\n",
      "D = dict()\n",
      "for f in filelist:\n",
      "    with open(f) as fh:\n",
      "        s = ''.join([ x for x in fh if (x[0]!='#' and x[0]!='\\n')])\n",
      "        D[f] = pd.read_csv(BytesIO(s),sep=' ',names=['x','y','z','v'],usecols=['x','y','z'])\n",
      "fig, axes = plt.subplots(nrows=1, ncols=4,figsize=(20,8))\n",
      "for i,(k,v) in enumerate(D.items()):\n",
      "    v.plot(title=k,ax=axes[i])\n",
      "import matplotlib as mpl\n",
      "from mpl_toolkits.mplot3d import Axes3D\n",
      "import numpy as np\n",
      "import matplotlib.pyplot as plt\n",
      "\n",
      "mpl.rcParams['legend.fontsize'] = 10\n",
      "\n",
      "fig, axes = plt.subplots(nrows=1, ncols=4,figsize=(20,6))\n",
      "\n",
      "for i,(k,v) in enumerate(D.items()):\n",
      "    ax = fig.add_subplot(1,4,i,projection='3d')\n",
      "    ax.plot(v['x'],v['y'],v['z'], label=k)\n",
      "    ax.legend()\n",
      "\n",
      "plt.show()\n",
      "\n",
      "\n",
      "DFT = dict()\n",
      "for k,v in D.items():\n",
      "    a = np.fft.fft(v.as_matrix())\n",
      "    DFT[k] = map(lambda x: x.real**2+x.imag**2,a)\n",
      "    DFT[k] = pd.DataFrame(DFT[k])\n",
      "fig, axes = plt.subplots(nrows=1, ncols=4,figsize=(20,8))\n",
      "for i,(k,v) in enumerate(DFT.items()):\n",
      "    v.plot(title=k,ax=axes[i])\n",
      "\n",
      "m,s = D['fistbump.txt'].mean(),D['fistbump.txt'].std()\n",
      "def inthresh(x,v):\n",
      "    m,s = v.mean(),v.std()\n",
      "    tm,tM = m-s,m+s\n",
      "    return x>tm and x<tM\n",
      "\n",
      "trunc = D['fistbump.txt'][D['fistbump.txt'].apply(lambda x: x>tM, axis=1).sum(axis=1) != 0]\n",
      "m_ind,M_ind = trunc.index[0],trunc.index[-1]\n",
      "D['fistbump.txt'].ix[m_ind:M_ind,:].plot()\n",
      "D['fistbump.txt'].plot()"
     ],
     "language": "python",
     "metadata": {},
     "outputs": [],
     "prompt_number": 46
    },
    {
     "cell_type": "code",
     "collapsed": false,
     "input": [],
     "language": "python",
     "metadata": {},
     "outputs": []
    }
   ],
   "metadata": {}
  }
 ]
}